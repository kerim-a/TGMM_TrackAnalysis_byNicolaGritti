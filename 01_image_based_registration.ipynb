{
 "cells": [
  {
   "cell_type": "code",
   "execution_count": 1,
   "id": "a3b9285a",
   "metadata": {},
   "outputs": [],
   "source": [
    "import os\n",
    "import glob\n",
    "import numpy as np\n",
    "from skimage.io import imread\n",
    "import napari\n",
    "import optireg\n",
    "\n",
    "%matplotlib notebook"
   ]
  },
  {
   "cell_type": "markdown",
   "id": "71dd40ec",
   "metadata": {},
   "source": [
    "# Select image folder"
   ]
  },
  {
   "cell_type": "code",
   "execution_count": 2,
   "id": "812d6541",
   "metadata": {},
   "outputs": [],
   "source": [
    "master_folder = os.path.join('Y:',os.sep,'Kerim_Anlas','gastruloid_imaging','tracking_preprocess','preprocess')"
   ]
  },
  {
   "cell_type": "code",
   "execution_count": 3,
   "id": "4e1d8203",
   "metadata": {},
   "outputs": [],
   "source": [
    "# folder = os.path.join('Y:','/Kerim_Anlas/gastruloid_imaging/tracking_preprocess',\n",
    "#                         'preprocess/20211110_ESLmix_48h_firstTex_probnochi/Pos3_best_reg_g')\n",
    "# folder = os.path.join('Y:','/Kerim_Anlas/gastruloid_imaging/tracking_preprocess',\n",
    "#                       'preprocess/2021_PD_72h/20210429_pos3_72h_reg_g')\n",
    "folder = os.path.join(master_folder,'20220211_a2imix_96h_good','Pos1')\n",
    "\n",
    "### PARAMETERS for registration\n",
    "available_channels = ['mKO2', 'GFP'] # available channels (folders)\n",
    "pixel_size = (2,0.3467,0.3467) # anistotropic pixel size (ordered: ZYX)\n",
    "reference_channel = 'mKO2' # channel used to find cells\n",
    "cell_diameter_XY = 10 # in pixels\n",
    "reverse_order = True # process from last timepoint to first (i.e. register all images relative to last frame)\n",
    "threshold = 200 # maxima with values lower than threshold will not be considered as cells\n",
    "gpu_down = 1. # scale image down to use less GPU memory and improve speed\n",
    "with_cle = True\n"
   ]
  },
  {
   "cell_type": "markdown",
   "id": "3128fa1d",
   "metadata": {},
   "source": [
    "# Find all tif files in the folder"
   ]
  },
  {
   "cell_type": "code",
   "execution_count": 4,
   "id": "274d4dba",
   "metadata": {},
   "outputs": [
    {
     "name": "stdout",
     "output_type": "stream",
     "text": [
      "Found 175 images.\n"
     ]
    }
   ],
   "source": [
    "flist = glob.glob(os.path.join(folder, reference_channel, '*.tif'))\n",
    "flist.sort()\n",
    "# flist = flist[:10]\n",
    "print('Found %d images.'%len(flist))"
   ]
  },
  {
   "cell_type": "markdown",
   "id": "9a1c269e",
   "metadata": {},
   "source": [
    "# Find anchor points"
   ]
  },
  {
   "cell_type": "code",
   "execution_count": 5,
   "id": "81f48bbc",
   "metadata": {},
   "outputs": [
    {
     "name": "stdout",
     "output_type": "stream",
     "text": [
      "Pixel size in Z : 2.00000 um\n",
      "Pixel size in XY: 0.34670 um\n",
      "Anisotropy: 5.76868\n"
     ]
    }
   ],
   "source": [
    "scale = pixel_size[0]/pixel_size[1]\n",
    "print('Pixel size in Z : %.5f um'%pixel_size[0])\n",
    "print('Pixel size in XY: %.5f um'%pixel_size[1])\n",
    "print('Anisotropy: %.5f'%scale)"
   ]
  },
  {
   "cell_type": "code",
   "execution_count": 6,
   "id": "c24fc472",
   "metadata": {},
   "outputs": [
    {
     "name": "stderr",
     "output_type": "stream",
     "text": [
      "  0%|                                                                                          | 0/175 [00:01<?, ?it/s]\n"
     ]
    },
    {
     "ename": "LogicError",
     "evalue": "clCreateImage failed: INVALID_OPERATION",
     "output_type": "error",
     "traceback": [
      "\u001b[1;31m---------------------------------------------------------------------------\u001b[0m",
      "\u001b[1;31mLogicError\u001b[0m                                Traceback (most recent call last)",
      "Cell \u001b[1;32mIn[6], line 2\u001b[0m\n\u001b[0;32m      1\u001b[0m \u001b[38;5;66;03m# compute anchor points or load file if it already exists\u001b[39;00m\n\u001b[1;32m----> 2\u001b[0m df \u001b[38;5;241m=\u001b[39m \u001b[43moptireg\u001b[49m\u001b[38;5;241;43m.\u001b[39;49m\u001b[43mfind_anchor_points\u001b[49m\u001b[43m(\u001b[49m\n\u001b[0;32m      3\u001b[0m \u001b[43m    \u001b[49m\u001b[43mfolder\u001b[49m\u001b[43m,\u001b[49m\u001b[43m \u001b[49m\u001b[43mflist\u001b[49m\u001b[43m,\u001b[49m\u001b[43m \u001b[49m\u001b[43mfileName\u001b[49m\u001b[43m \u001b[49m\u001b[38;5;241;43m=\u001b[39;49m\u001b[43m \u001b[49m\u001b[38;5;124;43m'\u001b[39;49m\u001b[38;5;124;43manchor_points.csv\u001b[39;49m\u001b[38;5;124;43m'\u001b[39;49m\u001b[43m,\u001b[49m\u001b[43m \u001b[49m\n\u001b[0;32m      4\u001b[0m \u001b[43m    \u001b[49m\u001b[43mscale\u001b[49m\u001b[43m \u001b[49m\u001b[38;5;241;43m=\u001b[39;49m\u001b[43m \u001b[49m\u001b[43mscale\u001b[49m\u001b[43m,\u001b[49m\u001b[43m \u001b[49m\u001b[43mgpu_down\u001b[49m\u001b[43m \u001b[49m\u001b[38;5;241;43m=\u001b[39;49m\u001b[43m \u001b[49m\u001b[43mgpu_down\u001b[49m\u001b[43m,\u001b[49m\u001b[43m \u001b[49m\n\u001b[0;32m      5\u001b[0m \u001b[43m    \u001b[49m\u001b[43mcell_diameter_XY\u001b[49m\u001b[43m \u001b[49m\u001b[38;5;241;43m=\u001b[39;49m\u001b[43m \u001b[49m\u001b[43mcell_diameter_XY\u001b[49m\u001b[43m,\u001b[49m\n\u001b[0;32m      6\u001b[0m \u001b[43m    \u001b[49m\u001b[43mreverse_order\u001b[49m\u001b[43m \u001b[49m\u001b[38;5;241;43m=\u001b[39;49m\u001b[43m \u001b[49m\u001b[43mreverse_order\u001b[49m\u001b[43m,\u001b[49m\n\u001b[0;32m      7\u001b[0m \u001b[43m    \u001b[49m\u001b[43mthreshold\u001b[49m\u001b[43m \u001b[49m\u001b[38;5;241;43m=\u001b[39;49m\u001b[43m \u001b[49m\u001b[43mthreshold\u001b[49m\n\u001b[0;32m      8\u001b[0m \u001b[43m)\u001b[49m\n",
      "File \u001b[1;32mY:\\Nicola_Gritti\\gastruloid_tracking\\test_code_Nicola\\preprocessing\\optireg.py:41\u001b[0m, in \u001b[0;36mfind_anchor_points\u001b[1;34m(folder, flist, fileName, scale, gpu_down, cell_diameter_XY, threshold, reverse_order)\u001b[0m\n\u001b[0;32m     36\u001b[0m         img_input \u001b[38;5;241m=\u001b[39m imread(fname)\n\u001b[0;32m     38\u001b[0m         img \u001b[38;5;241m=\u001b[39m cle\u001b[38;5;241m.\u001b[39mcreate([\u001b[38;5;28mint\u001b[39m((img_input\u001b[38;5;241m.\u001b[39mshape[\u001b[38;5;241m0\u001b[39m] \u001b[38;5;241m*\u001b[39m scale)\u001b[38;5;241m/\u001b[39mgpu_down),\n\u001b[0;32m     39\u001b[0m                         \u001b[38;5;28mint\u001b[39m(img_input\u001b[38;5;241m.\u001b[39mshape[\u001b[38;5;241m1\u001b[39m]\u001b[38;5;241m/\u001b[39mgpu_down),\n\u001b[0;32m     40\u001b[0m                         \u001b[38;5;28mint\u001b[39m(img_input\u001b[38;5;241m.\u001b[39mshape[\u001b[38;5;241m2\u001b[39m]\u001b[38;5;241m/\u001b[39mgpu_down)])\n\u001b[1;32m---> 41\u001b[0m         \u001b[43mcle\u001b[49m\u001b[38;5;241;43m.\u001b[39;49m\u001b[43mscale\u001b[49m\u001b[43m(\u001b[49m\u001b[43mimg_input\u001b[49m\u001b[43m,\u001b[49m\u001b[43m \u001b[49m\u001b[43mimg\u001b[49m\u001b[43m,\u001b[49m\n\u001b[0;32m     42\u001b[0m \u001b[43m                \u001b[49m\u001b[43mfactor_x\u001b[49m\u001b[43m \u001b[49m\u001b[38;5;241;43m=\u001b[39;49m\u001b[43m \u001b[49m\u001b[38;5;241;43m1.\u001b[39;49m\u001b[38;5;241;43m/\u001b[39;49m\u001b[43mgpu_down\u001b[49m\u001b[43m,\u001b[49m\n\u001b[0;32m     43\u001b[0m \u001b[43m                \u001b[49m\u001b[43mfactor_y\u001b[49m\u001b[43m \u001b[49m\u001b[38;5;241;43m=\u001b[39;49m\u001b[43m \u001b[49m\u001b[38;5;241;43m1.\u001b[39;49m\u001b[38;5;241;43m/\u001b[39;49m\u001b[43mgpu_down\u001b[49m\u001b[43m,\u001b[49m\n\u001b[0;32m     44\u001b[0m \u001b[43m                \u001b[49m\u001b[43mfactor_z\u001b[49m\u001b[43m \u001b[49m\u001b[38;5;241;43m=\u001b[39;49m\u001b[43m \u001b[49m\u001b[43mscale\u001b[49m\u001b[38;5;241;43m/\u001b[39;49m\u001b[43mgpu_down\u001b[49m\u001b[43m,\u001b[49m\n\u001b[0;32m     45\u001b[0m \u001b[43m                \u001b[49m\u001b[43mcentered\u001b[49m\u001b[43m \u001b[49m\u001b[38;5;241;43m=\u001b[39;49m\u001b[43m \u001b[49m\u001b[38;5;28;43;01mFalse\u001b[39;49;00m\u001b[43m,\u001b[49m\n\u001b[0;32m     46\u001b[0m \u001b[43m                \u001b[49m\u001b[43mlinear_interpolation\u001b[49m\u001b[43m \u001b[49m\u001b[38;5;241;43m=\u001b[39;49m\u001b[43m \u001b[49m\u001b[38;5;28;43;01mTrue\u001b[39;49;00m\u001b[43m)\u001b[49m\n\u001b[0;32m     47\u001b[0m         \u001b[38;5;28;01mdel\u001b[39;00m img_input\n\u001b[0;32m     49\u001b[0m \u001b[38;5;66;03m#         print('Gaussian')\u001b[39;00m\n",
      "File \u001b[1;32m~\\.conda\\envs\\kerim-env\\lib\\site-packages\\pyclesperanto_prototype\\_tier0\\_plugin_function.py:71\u001b[0m, in \u001b[0;36mplugin_function.<locals>.worker_function\u001b[1;34m(*args, **kwargs)\u001b[0m\n\u001b[0;32m     68\u001b[0m         bound\u001b[38;5;241m.\u001b[39marguments[key] \u001b[38;5;241m=\u001b[39m output_creator(\u001b[38;5;241m*\u001b[39mbound\u001b[38;5;241m.\u001b[39margs[:\u001b[38;5;28mlen\u001b[39m(sig2\u001b[38;5;241m.\u001b[39mparameters)])\n\u001b[0;32m     70\u001b[0m \u001b[38;5;66;03m# call the decorated function\u001b[39;00m\n\u001b[1;32m---> 71\u001b[0m \u001b[38;5;28;01mreturn\u001b[39;00m function(\u001b[38;5;241m*\u001b[39mbound\u001b[38;5;241m.\u001b[39margs, \u001b[38;5;241m*\u001b[39m\u001b[38;5;241m*\u001b[39mbound\u001b[38;5;241m.\u001b[39mkwargs)\n",
      "File \u001b[1;32m~\\.conda\\envs\\kerim-env\\lib\\site-packages\\pyclesperanto_prototype\\_tier8\\_scale.py:62\u001b[0m, in \u001b[0;36mscale\u001b[1;34m(source, destination, factor_x, factor_y, factor_z, centered, linear_interpolation, auto_size)\u001b[0m\n\u001b[0;32m     59\u001b[0m \u001b[38;5;28;01mif\u001b[39;00m centered \u001b[38;5;129;01mand\u001b[39;00m \u001b[38;5;129;01mnot\u001b[39;00m auto_size:\n\u001b[0;32m     60\u001b[0m     transform\u001b[38;5;241m.\u001b[39mcenter(destination\u001b[38;5;241m.\u001b[39mshape, undo\u001b[38;5;241m=\u001b[39m\u001b[38;5;28;01mTrue\u001b[39;00m)\n\u001b[1;32m---> 62\u001b[0m \u001b[38;5;28;01mreturn\u001b[39;00m \u001b[43maffine_transform\u001b[49m\u001b[43m(\u001b[49m\u001b[43msource\u001b[49m\u001b[43m,\u001b[49m\u001b[43m \u001b[49m\u001b[43mdestination\u001b[49m\u001b[43m,\u001b[49m\u001b[43m \u001b[49m\u001b[43mtransform\u001b[49m\u001b[43m,\u001b[49m\u001b[43m \u001b[49m\u001b[43mlinear_interpolation\u001b[49m\u001b[43m,\u001b[49m\u001b[43m \u001b[49m\u001b[43mauto_size\u001b[49m\u001b[43m)\u001b[49m\n",
      "File \u001b[1;32m~\\.conda\\envs\\kerim-env\\lib\\site-packages\\pyclesperanto_prototype\\_tier0\\_plugin_function.py:71\u001b[0m, in \u001b[0;36mplugin_function.<locals>.worker_function\u001b[1;34m(*args, **kwargs)\u001b[0m\n\u001b[0;32m     68\u001b[0m         bound\u001b[38;5;241m.\u001b[39marguments[key] \u001b[38;5;241m=\u001b[39m output_creator(\u001b[38;5;241m*\u001b[39mbound\u001b[38;5;241m.\u001b[39margs[:\u001b[38;5;28mlen\u001b[39m(sig2\u001b[38;5;241m.\u001b[39mparameters)])\n\u001b[0;32m     70\u001b[0m \u001b[38;5;66;03m# call the decorated function\u001b[39;00m\n\u001b[1;32m---> 71\u001b[0m \u001b[38;5;28;01mreturn\u001b[39;00m function(\u001b[38;5;241m*\u001b[39mbound\u001b[38;5;241m.\u001b[39margs, \u001b[38;5;241m*\u001b[39m\u001b[38;5;241m*\u001b[39mbound\u001b[38;5;241m.\u001b[39mkwargs)\n",
      "File \u001b[1;32m~\\.conda\\envs\\kerim-env\\lib\\site-packages\\pyclesperanto_prototype\\_tier8\\_affine_transform.py:98\u001b[0m, in \u001b[0;36maffine_transform\u001b[1;34m(source, destination, transform, linear_interpolation, auto_size)\u001b[0m\n\u001b[0;32m     96\u001b[0m kernel_suffix \u001b[38;5;241m=\u001b[39m \u001b[38;5;124m'\u001b[39m\u001b[38;5;124m'\u001b[39m\n\u001b[0;32m     97\u001b[0m \u001b[38;5;28;01mif\u001b[39;00m linear_interpolation:\n\u001b[1;32m---> 98\u001b[0m     image \u001b[38;5;241m=\u001b[39m \u001b[43mempty_image_like\u001b[49m\u001b[43m(\u001b[49m\u001b[43msource\u001b[49m\u001b[43m)\u001b[49m\n\u001b[0;32m     99\u001b[0m     copy(source, image)\n\u001b[0;32m    100\u001b[0m     \u001b[38;5;28;01mif\u001b[39;00m \u001b[38;5;28mtype\u001b[39m(source) \u001b[38;5;241m!=\u001b[39m \u001b[38;5;28mtype\u001b[39m(image):\n",
      "File \u001b[1;32m~\\.conda\\envs\\kerim-env\\lib\\site-packages\\pyclesperanto_prototype\\_tier0\\_cl_image.py:46\u001b[0m, in \u001b[0;36mempty_image_like\u001b[1;34m(arr, ctx)\u001b[0m\n\u001b[0;32m     44\u001b[0m \u001b[38;5;28;01mdef\u001b[39;00m \u001b[38;5;21mempty_image_like\u001b[39m(arr, ctx\u001b[38;5;241m=\u001b[39m\u001b[38;5;28;01mNone\u001b[39;00m):\n\u001b[0;32m     45\u001b[0m     \u001b[38;5;28;01mfrom\u001b[39;00m \u001b[38;5;21;01m.\u001b[39;00m\u001b[38;5;21;01m_backends\u001b[39;00m \u001b[38;5;28;01mimport\u001b[39;00m Backend\n\u001b[1;32m---> 46\u001b[0m     \u001b[38;5;28;01mreturn\u001b[39;00m \u001b[43mBackend\u001b[49m\u001b[38;5;241;43m.\u001b[39;49m\u001b[43mget_instance\u001b[49m\u001b[43m(\u001b[49m\u001b[43m)\u001b[49m\u001b[38;5;241;43m.\u001b[39;49m\u001b[43mget\u001b[49m\u001b[43m(\u001b[49m\u001b[43m)\u001b[49m\u001b[38;5;241;43m.\u001b[39;49m\u001b[43mempty_image_like\u001b[49m\u001b[43m(\u001b[49m\u001b[43marr\u001b[49m\u001b[43m,\u001b[49m\u001b[43m \u001b[49m\u001b[43mctx\u001b[49m\u001b[43m)\u001b[49m\n",
      "File \u001b[1;32m~\\.conda\\envs\\kerim-env\\lib\\site-packages\\pyclesperanto_prototype\\_tier0\\_opencl_backend.py:27\u001b[0m, in \u001b[0;36mOpenCLBackend.empty_image_like\u001b[1;34m(self, arr, ctx, *args, **kwargs)\u001b[0m\n\u001b[0;32m     24\u001b[0m \u001b[38;5;28;01mimport\u001b[39;00m \u001b[38;5;21;01mpyopencl\u001b[39;00m\n\u001b[0;32m     26\u001b[0m \u001b[38;5;28;01mtry\u001b[39;00m:\n\u001b[1;32m---> 27\u001b[0m     \u001b[38;5;28;01mreturn\u001b[39;00m \u001b[43mempty_image\u001b[49m\u001b[43m(\u001b[49m\u001b[43mctx\u001b[49m\u001b[43m,\u001b[49m\u001b[43m \u001b[49m\u001b[43marr\u001b[49m\u001b[38;5;241;43m.\u001b[39;49m\u001b[43mshape\u001b[49m\u001b[43m,\u001b[49m\u001b[43m \u001b[49m\u001b[43marr\u001b[49m\u001b[38;5;241;43m.\u001b[39;49m\u001b[43mdtype\u001b[49m\u001b[43m)\u001b[49m\n\u001b[0;32m     28\u001b[0m \u001b[38;5;28;01mexcept\u001b[39;00m pyopencl\u001b[38;5;241m.\u001b[39m_cl\u001b[38;5;241m.\u001b[39mRuntimeError \u001b[38;5;28;01mas\u001b[39;00m e: \u001b[38;5;66;03m# assuming this is clCreateImage failed: IMAGE_FORMAT_NOT_SUPPORTED\u001b[39;00m\n\u001b[0;32m     29\u001b[0m     \u001b[38;5;28;01mfrom\u001b[39;00m \u001b[38;5;21;01m.\u001b[39;00m\u001b[38;5;21;01m.\u001b[39;00m\u001b[38;5;21;01m_tier0\u001b[39;00m \u001b[38;5;28;01mimport\u001b[39;00m _warn_of_interpolation_not_available\n",
      "File \u001b[1;32m~\\.conda\\envs\\kerim-env\\lib\\site-packages\\pyclesperanto_prototype\\_tier0\\_cl_image.py:37\u001b[0m, in \u001b[0;36mempty_image\u001b[1;34m(ctx, shape, dtype, num_channels, channel_order)\u001b[0m\n\u001b[0;32m     34\u001b[0m     \u001b[38;5;28;01mraise\u001b[39;00m \u001b[38;5;167;01mValueError\u001b[39;00m(\u001b[38;5;124m\"\u001b[39m\u001b[38;5;124munsupported\u001b[39m\u001b[38;5;124m\"\u001b[39m)\n\u001b[0;32m     36\u001b[0m fmt \u001b[38;5;241m=\u001b[39m cl\u001b[38;5;241m.\u001b[39mImageFormat(channel_order, channel_type)\n\u001b[1;32m---> 37\u001b[0m res \u001b[38;5;241m=\u001b[39m \u001b[43mcl\u001b[49m\u001b[38;5;241;43m.\u001b[39;49m\u001b[43mImage\u001b[49m\u001b[43m(\u001b[49m\u001b[43mctx\u001b[49m\u001b[43m,\u001b[49m\u001b[43m \u001b[49m\u001b[43mmem_flags\u001b[49m\u001b[43m,\u001b[49m\u001b[43m \u001b[49m\u001b[43mfmt\u001b[49m\u001b[43m,\u001b[49m\u001b[43m \u001b[49m\u001b[43mshape\u001b[49m\u001b[38;5;241;43m=\u001b[39;49m\u001b[43mshape\u001b[49m\u001b[43m[\u001b[49m\u001b[43m:\u001b[49m\u001b[43m:\u001b[49m\u001b[38;5;241;43m-\u001b[39;49m\u001b[38;5;241;43m1\u001b[39;49m\u001b[43m]\u001b[49m\u001b[43m)\u001b[49m\n\u001b[0;32m     38\u001b[0m res\u001b[38;5;241m.\u001b[39mdtype \u001b[38;5;241m=\u001b[39m dtype\n\u001b[0;32m     39\u001b[0m res\u001b[38;5;241m.\u001b[39mnum_channels \u001b[38;5;241m=\u001b[39m num_channels\n",
      "File \u001b[1;32m~\\.conda\\envs\\kerim-env\\lib\\site-packages\\pyopencl\\__init__.py:1023\u001b[0m, in \u001b[0;36m_add_functionality.<locals>.image_init\u001b[1;34m(self, context, flags, format, shape, pitches, hostbuf, is_array, buffer)\u001b[0m\n\u001b[0;32m   1020\u001b[0m     desc\u001b[38;5;241m.\u001b[39mnum_samples \u001b[38;5;241m=\u001b[39m \u001b[38;5;241m0\u001b[39m  \u001b[38;5;66;03m# per CL 1.2 spec\u001b[39;00m\n\u001b[0;32m   1021\u001b[0m     desc\u001b[38;5;241m.\u001b[39mbuffer \u001b[38;5;241m=\u001b[39m buffer\n\u001b[1;32m-> 1023\u001b[0m     \u001b[43mimage_old_init\u001b[49m\u001b[43m(\u001b[49m\u001b[38;5;28;43mself\u001b[39;49m\u001b[43m,\u001b[49m\u001b[43m \u001b[49m\u001b[43mcontext\u001b[49m\u001b[43m,\u001b[49m\u001b[43m \u001b[49m\u001b[43mflags\u001b[49m\u001b[43m,\u001b[49m\u001b[43m \u001b[49m\u001b[38;5;28;43mformat\u001b[39;49m\u001b[43m,\u001b[49m\u001b[43m \u001b[49m\u001b[43mdesc\u001b[49m\u001b[43m,\u001b[49m\u001b[43m \u001b[49m\u001b[43mhostbuf\u001b[49m\u001b[43m)\u001b[49m\n\u001b[0;32m   1024\u001b[0m \u001b[38;5;28;01melse\u001b[39;00m:\n\u001b[0;32m   1025\u001b[0m     \u001b[38;5;66;03m# legacy init for CL 1.1 and older\u001b[39;00m\n\u001b[0;32m   1026\u001b[0m     \u001b[38;5;28;01mif\u001b[39;00m is_array:\n",
      "\u001b[1;31mLogicError\u001b[0m: clCreateImage failed: INVALID_OPERATION"
     ]
    }
   ],
   "source": [
    "# compute anchor points or load file if it already exists\n",
    "df = optireg.find_anchor_points(\n",
    "    folder, flist, fileName = 'anchor_points.csv', \n",
    "    scale = scale, gpu_down = gpu_down, \n",
    "    cell_diameter_XY = cell_diameter_XY,\n",
    "    reverse_order = reverse_order,\n",
    "    threshold = threshold\n",
    ")\n"
   ]
  },
  {
   "cell_type": "code",
   "execution_count": null,
   "id": "43e67c54",
   "metadata": {},
   "outputs": [],
   "source": [
    "df"
   ]
  },
  {
   "cell_type": "markdown",
   "id": "ddbd4a56",
   "metadata": {},
   "source": [
    "# Optional: Visualize anchor points"
   ]
  },
  {
   "cell_type": "code",
   "execution_count": null,
   "id": "dd0b0b3a",
   "metadata": {},
   "outputs": [],
   "source": [
    "start = 0\n",
    "stop = 22\n",
    "visualize_images = True\n",
    "\n",
    "#######################################\n",
    "if visualize_images:\n",
    "    img = np.array([imread(f) for f in flist[start:stop]])\n",
    "\n",
    "df_napari = df[(df.tp>=start)&(df.tp<stop)][['tp','z','y','x']].to_numpy()\n",
    "df_napari[:,0] -= start\n",
    "\n",
    "viewer = napari.Viewer()\n",
    "if visualize_images:\n",
    "    viewer.add_image(img, scale=(scale,1,1), name='gastruloid')\n",
    "viewer.add_points(df_napari, name='cells', opacity=1., \n",
    "                  face_color='red')\n",
    "napari.run()\n"
   ]
  },
  {
   "cell_type": "markdown",
   "id": "ef671a24",
   "metadata": {},
   "source": [
    "# method: minimize average distance to closest point"
   ]
  },
  {
   "cell_type": "code",
   "execution_count": null,
   "id": "f88f8cfc",
   "metadata": {
    "scrolled": true
   },
   "outputs": [],
   "source": [
    "tps = list(set(df.tpreg))\n",
    "tps.sort()\n",
    "df_list = [df[df.tpreg==tp] for tp in tps]\n",
    "\n",
    "Ts = optireg.find_transformations(df_list, folder, maxiter=100, tol=1e-5)"
   ]
  },
  {
   "cell_type": "code",
   "execution_count": null,
   "id": "b60521e0",
   "metadata": {},
   "outputs": [],
   "source": [
    "df_list = optireg.perform_points_registration(df_list, Ts)"
   ]
  },
  {
   "cell_type": "markdown",
   "id": "686e880b",
   "metadata": {},
   "source": [
    "# Optional: Visualize anchor points"
   ]
  },
  {
   "cell_type": "code",
   "execution_count": null,
   "id": "d2808985",
   "metadata": {},
   "outputs": [],
   "source": [
    "import napari\n",
    "\n",
    "df_napari = []\n",
    "for df_tp in df_list:\n",
    "    poss = df_tp[['tp','z','y','x']].to_numpy()\n",
    "    for p in poss:\n",
    "        df_napari.append(p)\n",
    "df_napari = np.array(df_napari)\n",
    "\n",
    "df_napari1 = []\n",
    "for df_tp in df_list:\n",
    "    poss = df_tp[['tp','zreg','yreg','xreg']].to_numpy()\n",
    "    for p in poss:\n",
    "        df_napari1.append(p)\n",
    "df_napari1 = np.array(df_napari1)\n",
    "\n",
    "viewer = napari.Viewer()\n",
    "viewer.add_points(df_napari, name='cells', opacity=1, \n",
    "#                   scale=(1,1,1),\n",
    "                  face_color='red')\n",
    "viewer.add_points(df_napari1, name='cells_reg', opacity=1, \n",
    "#                   scale=(1,1,1),\n",
    "                  face_color='lightgreen')\n",
    "napari.run()\n"
   ]
  },
  {
   "cell_type": "markdown",
   "id": "3336a4b6",
   "metadata": {},
   "source": [
    "# Perform image registration"
   ]
  },
  {
   "cell_type": "code",
   "execution_count": null,
   "id": "7ccbff4f",
   "metadata": {
    "scrolled": true
   },
   "outputs": [],
   "source": [
    "from importlib import reload\n",
    "\n",
    "reload(optireg)\n",
    "optireg.perform_images_registration(folder, \n",
    "                                    available_channels, \n",
    "                                    reverse_order, \n",
    "                                    scale,\n",
    "                                    Ts,\n",
    "                                    with_cle = True,\n",
    "                                    registered_folder_id = '_reg1')"
   ]
  },
  {
   "cell_type": "code",
   "execution_count": null,
   "id": "bc0f5757",
   "metadata": {},
   "outputs": [],
   "source": [
    "# import subprocess as sp\n",
    "\n",
    "# def get_gpu_memory():\n",
    "#     command = \"nvidia-smi --query-gpu=memory.free --format=csv\"\n",
    "#     memory_free_info = sp.check_output(command.split()).decode('ascii').split('\\n')[:-1][1:]\n",
    "#     memory_free_values = [int(x.split()[0]) for i, x in enumerate(memory_free_info)]\n",
    "#     return memory_free_values\n",
    "\n",
    "# get_gpu_memory()"
   ]
  },
  {
   "cell_type": "code",
   "execution_count": null,
   "id": "b43447c7",
   "metadata": {},
   "outputs": [],
   "source": []
  },
  {
   "cell_type": "code",
   "execution_count": null,
   "id": "98d20b74",
   "metadata": {},
   "outputs": [],
   "source": []
  },
  {
   "cell_type": "code",
   "execution_count": null,
   "id": "20459edd",
   "metadata": {},
   "outputs": [],
   "source": []
  }
 ],
 "metadata": {
  "kernelspec": {
   "display_name": "Python 3 (ipykernel)",
   "language": "python",
   "name": "python3"
  },
  "language_info": {
   "codemirror_mode": {
    "name": "ipython",
    "version": 3
   },
   "file_extension": ".py",
   "mimetype": "text/x-python",
   "name": "python",
   "nbconvert_exporter": "python",
   "pygments_lexer": "ipython3",
   "version": "3.9.15"
  }
 },
 "nbformat": 4,
 "nbformat_minor": 5
}
